{
 "cells": [
  {
   "cell_type": "code",
   "execution_count": 19,
   "metadata": {},
   "outputs": [],
   "source": [
    "import cv2\n",
    "import os\n",
    "from matplotlib import pyplot as plt\n",
    "import matplotlib.patches as mpatches\n",
    "from PIL import Image, ImageDraw\n",
    "from shapely.geometry import Polygon\n",
    "from ultralytics import YOLO"
   ]
  },
  {
   "cell_type": "markdown",
   "metadata": {},
   "source": [
    "# Выбор наилучшей модели"
   ]
  },
  {
   "cell_type": "code",
   "execution_count": 25,
   "metadata": {},
   "outputs": [],
   "source": [
    "from ensemble_boxes import weighted_boxes_fusion\n",
    "class IntersectionDetector():\n",
    "    \"\"\"Класс для отслеживания пересечений облостей\"\"\"\n",
    "\n",
    "    def __init__(self, model_path) -> None:\n",
    "        \"\"\"Метод инициализации\"\"\"\n",
    "        self.model = YOLO(model_path)\n",
    "        self.image_path = None\n",
    "        self.zone_path = None\n",
    "\n",
    "        self.humans_bb = []\n",
    "        self.zone_bb = []\n",
    "\n",
    "        self.intersected = []\n",
    "        self.model()  # сделать первое предсказание\n",
    "\n",
    "    def find_zone_file(self) -> str:\n",
    "        \"\"\"\n",
    "        Метод получения пути до текстового файла опасной зоны;\n",
    "        :return путь до текстового файла с опасной зоной;\n",
    "        \"\"\"\n",
    "        arr_dirs = self.image_path.split(\"/\")\n",
    "        cameras_index = arr_dirs.index(\"cameras\")\n",
    "        dir_path = self.image_path.split(\"cameras\")[0]\n",
    "\n",
    "        zone_path = os.path.join(dir_path, \"danger_zones\", f\"danger_{arr_dirs[cameras_index + 1]}.txt\")\n",
    "        return zone_path\n",
    "\n",
    "    def read_zone_file(self) -> list:\n",
    "        \"\"\"\n",
    "        Метод считывания зоны из текстового файла в список;\n",
    "        :return список координат из файла зоны;\n",
    "        \"\"\"\n",
    "        zone = []\n",
    "        with open(self.zone_path) as file:\n",
    "            for line in file:\n",
    "                string = line.replace(\",\", \"\")\n",
    "                string = string.replace(\"[\", \"\")\n",
    "                string = string.replace(\"]\", \"\")\n",
    "                string = string.strip()\n",
    "                zone.append([int(string.split(\" \")[0]), int(string.split(\" \")[1])])\n",
    "        return zone\n",
    "\n",
    "    @staticmethod\n",
    "    def get_list_from_xywh(bb: list):\n",
    "        \"\"\"\n",
    "        Форматирование данных из форматы xywh в угловой;\n",
    "        :param bb - bounding box;\n",
    "        :return новое представление данных;\n",
    "        \"\"\"\n",
    "        return [[int(bb[0]), int(bb[1])],\n",
    "                [int(bb[2]), int(bb[1])],\n",
    "                [int(bb[0]), int(bb[3])],\n",
    "                [int(bb[2]), int(bb[3])]]\n",
    "\n",
    "    def format_swap(self, bbx: list) -> list:\n",
    "        \"\"\"Метод для перестановки точек в нужной последовательности\"\"\"\n",
    "        # FIXME: Это надо будет обязательно убрать\n",
    "        bbx_1 = self.get_list_from_xywh(bbx)\n",
    "        bbx_1_tmp = bbx_1[-1]\n",
    "        bbx_1[-1] = bbx_1[-2]\n",
    "        bbx_1[-2] = bbx_1_tmp\n",
    "        return bbx_1\n",
    "\n",
    "    def calculate_intersection(self, human: list, draw: bool = False) -> float:\n",
    "        \"\"\"\n",
    "        Метод вычисления площади пересечения;\n",
    "        :param human - bounding box человека;\n",
    "        :param draw - режим рисования;\n",
    "        :return процент тела человека, который пересёкся в опасной зоной;\n",
    "        \"\"\"\n",
    "        square = (human[2] - human[0]) * (human[3] - human[1])\n",
    "        # Человека переводим в координаты\n",
    "        human = self.format_swap(human)\n",
    "\n",
    "        poly_1 = Polygon(human)\n",
    "        poly_2 = Polygon(self.zone_bb)\n",
    "        if draw:\n",
    "            plt.plot(*poly_1.exterior.xy)\n",
    "            plt.plot(*poly_2.exterior.xy)\n",
    "            plt.show()\n",
    "\n",
    "        return (poly_1.intersection(poly_2).area / square) * 100\n",
    "\n",
    "    def calculate_intersections(self, draw: bool = False) -> list:\n",
    "        \"\"\"\n",
    "        Метод получения тех ситуаций, когда тело входит в зону\n",
    "        более, чем на 15%;\n",
    "        :param draw - параметр отрисовки ограничивающих рамок;\n",
    "        :return список истинных или ложных ситуаций нарушения зоны;\n",
    "        \"\"\"\n",
    "        percentage = 15\n",
    "        intersections_list = []\n",
    "        for human in self.humans_bb:\n",
    "            intersections_list.append(self.calculate_intersection(human, draw))\n",
    "        # self.show_all()\n",
    "        self.intersected = [i > percentage for i in intersections_list]\n",
    "        return intersections_list\n",
    "\n",
    "    @staticmethod\n",
    "    def draw_by_points(img: list,\n",
    "                         zone: list,\n",
    "                         color: tuple = (255, 0, 0),\n",
    "                         thick: int = 5) -> list:\n",
    "        \"\"\"\n",
    "        Метод отрисовки точек зоны на изображении;\n",
    "        :param img - исходное изображение;\n",
    "        :param zone - координаты зоны;\n",
    "        :param color - цвет зоны;\n",
    "        :param thick - толщина линий зоны;\n",
    "        :return изменённое изображение;\n",
    "        \"\"\"\n",
    "        zone.append(zone[0])\n",
    "        for p in range(len(zone) - 1):\n",
    "            cv2.line(img,\n",
    "                     (zone[p][0], zone[p][1]),\n",
    "                     (zone[p + 1][0], zone[p + 1][1]),\n",
    "                     color,\n",
    "                     thick)\n",
    "\n",
    "        return img\n",
    "\n",
    "    def show_final_image(self, image_num) -> list:\n",
    "        \"\"\"\n",
    "        Метод отрисовки всех объектов на изображении;\n",
    "        :return Отрисованное изображение;\n",
    "        \"\"\"\n",
    "        image = cv2.imread(self.image_path)\n",
    "\n",
    "        cv2.putText(image, str(image_num), \\\n",
    "                            [100, 200], \n",
    "                            cv2.FONT_HERSHEY_SIMPLEX, 4, (255, 255, 255), 10, cv2.LINE_AA)\n",
    "\n",
    "        i = 0\n",
    "        for human in self.humans_bb:\n",
    "            if self.intersected[i]:\n",
    "                image = cv2.rectangle(image, (int(human[0]), int(human[1])),\n",
    "                                      (int(human[2]), int(human[3])), (255, 0, 0), 5)\n",
    "            else:\n",
    "                image = cv2.rectangle(image, (int(human[0]), int(human[1])),\n",
    "                                      (int(human[2]), int(human[3])), (0, 255, 0), 5)\n",
    "\n",
    "        image = cv2.cvtColor(image, cv2.COLOR_BGR2RGB)\n",
    "        image = self.draw_by_points(image, self.zone_bb)\n",
    "\n",
    "        # plt.imshow(image)\n",
    "        # plt.show()\n",
    "        return image\n",
    "\n",
    "    def compute_metrics(boxes, confidences, weights, iou_thr=0.5, skip_box_thr=0.001):\n",
    "        \"\"\"\n",
    "        Computes WBF metrics for bounding boxes and confidences\n",
    "        \"\"\"\n",
    "        labels = [[0 for _ in conf] for conf in confidences]\n",
    "        res = weighted_boxes_fusion(boxes, confidences, labels,\n",
    "                                    weights=weights, iou_thr=iou_thr, skip_box_thr=skip_box_thr)\n",
    "        return [res[0].tolist(), res[1].tolist()]\n",
    "\n",
    "    def make_prediction(self) -> None:\n",
    "        \"\"\"Метод создания прогноза\"\"\"\n",
    "        pred = self.model(self.image_path)\n",
    "        if pred[0].boxes.xyxy.tolist():\n",
    "            self.humans_bb = pred[0].boxes.xyxy.tolist()\n",
    "        else:\n",
    "            self.humans_bb = []\n",
    "\n",
    "    # TODO: А почему не сделать те нижние методы геттером и сеттером? Есть же\n",
    "    #       @property. А через него можно и остальное сделать\n",
    "    def set_image_path(self, image_path) -> None:\n",
    "        \"\"\"\n",
    "        Метод установки путей;\n",
    "        :param image_path - путь до изображений;\n",
    "        \"\"\"\n",
    "        self.image_path = image_path\n",
    "        self.zone_path = self.find_zone_file()\n",
    "        self.zone_bb = self.read_zone_file()\n",
    "        self.make_prediction()\n",
    "\n",
    "    def get_image_path(self) -> str:\n",
    "        \"\"\"\n",
    "        Метод получения пути до изображений;\n",
    "        :return - путь до изображения;\n",
    "        \"\"\"\n",
    "        return self.image_path\n"
   ]
  },
  {
   "cell_type": "code",
   "execution_count": 33,
   "metadata": {},
   "outputs": [],
   "source": [
    "image_file = \"D:/Study/Hack_10.11.2023/cameras/DpR-Csp-uipv-ShV-V1/1a16321d-4371-4721-bbc9-ccfc4a17687c.jpg\"\n",
    "y_true = \"D:/Study/Hack_10.11.2023/cameras/DpR-Csp-uipv-ShV-V1/1a16321d-4371-4721-bbc9-ccfc4a17687c.txt\""
   ]
  },
  {
   "cell_type": "code",
   "execution_count": 30,
   "metadata": {},
   "outputs": [
    {
     "name": "stderr",
     "output_type": "stream",
     "text": [
      "WARNING  'source' is missing. Using 'source=C:\\Users\\nikol\\AppData\\Local\\Programs\\Python\\Python39\\Lib\\site-packages\\ultralytics\\assets'.\n",
      "\n",
      "image 1/2 C:\\Users\\nikol\\AppData\\Local\\Programs\\Python\\Python39\\Lib\\site-packages\\ultralytics\\assets\\bus.jpg: 640x480 3 persons, 256.6ms\n",
      "image 2/2 C:\\Users\\nikol\\AppData\\Local\\Programs\\Python\\Python39\\Lib\\site-packages\\ultralytics\\assets\\zidane.jpg: 384x640 (no detections), 204.4ms\n",
      "Speed: 6.6ms preprocess, 230.5ms inference, 1.5ms postprocess per image at shape (1, 3, 384, 640)\n",
      "\n",
      "image 1/1 D:\\Study\\Hack_10.11.2023\\cameras\\DpR-Csp-uipv-ShV-V1\\1a16321d-4371-4721-bbc9-ccfc4a17687c.jpg: 384x640 2 persons, 214.4ms\n",
      "Speed: 4.6ms preprocess, 214.4ms inference, 2.0ms postprocess per image at shape (1, 3, 384, 640)\n"
     ]
    }
   ],
   "source": [
    "detector_nano = IntersectionDetector(\"../models/YOLOv8n.pt\")\n",
    "detector_nano.set_image_path(image_file)"
   ]
  },
  {
   "cell_type": "code",
   "execution_count": 31,
   "metadata": {},
   "outputs": [
    {
     "name": "stderr",
     "output_type": "stream",
     "text": [
      "WARNING  'source' is missing. Using 'source=C:\\Users\\nikol\\AppData\\Local\\Programs\\Python\\Python39\\Lib\\site-packages\\ultralytics\\assets'.\n",
      "\n",
      "image 1/2 C:\\Users\\nikol\\AppData\\Local\\Programs\\Python\\Python39\\Lib\\site-packages\\ultralytics\\assets\\bus.jpg: 640x480 3 persons, 1124.2ms\n",
      "image 2/2 C:\\Users\\nikol\\AppData\\Local\\Programs\\Python\\Python39\\Lib\\site-packages\\ultralytics\\assets\\zidane.jpg: 384x640 (no detections), 846.4ms\n",
      "Speed: 4.3ms preprocess, 985.3ms inference, 2.0ms postprocess per image at shape (1, 3, 384, 640)\n",
      "\n",
      "image 1/1 D:\\Study\\Hack_10.11.2023\\cameras\\DpR-Csp-uipv-ShV-V1\\1a16321d-4371-4721-bbc9-ccfc4a17687c.jpg: 384x640 2 persons, 855.9ms\n",
      "Speed: 5.0ms preprocess, 855.9ms inference, 2.0ms postprocess per image at shape (1, 3, 384, 640)\n"
     ]
    }
   ],
   "source": [
    "detector_medium = IntersectionDetector(\"../models/YOLOv8m.pt\")\n",
    "detector_medium.set_image_path(image_file)"
   ]
  },
  {
   "cell_type": "code",
   "execution_count": 32,
   "metadata": {},
   "outputs": [
    {
     "name": "stderr",
     "output_type": "stream",
     "text": [
      "WARNING  'source' is missing. Using 'source=C:\\Users\\nikol\\AppData\\Local\\Programs\\Python\\Python39\\Lib\\site-packages\\ultralytics\\assets'.\n",
      "\n",
      "image 1/2 C:\\Users\\nikol\\AppData\\Local\\Programs\\Python\\Python39\\Lib\\site-packages\\ultralytics\\assets\\bus.jpg: 640x480 2 persons, 2831.4ms\n",
      "image 2/2 C:\\Users\\nikol\\AppData\\Local\\Programs\\Python\\Python39\\Lib\\site-packages\\ultralytics\\assets\\zidane.jpg: 384x640 1 person, 2285.7ms\n",
      "Speed: 6.8ms preprocess, 2558.6ms inference, 4.3ms postprocess per image at shape (1, 3, 384, 640)\n",
      "\n",
      "image 1/1 D:\\Study\\Hack_10.11.2023\\cameras\\DpR-Csp-uipv-ShV-V1\\1a16321d-4371-4721-bbc9-ccfc4a17687c.jpg: 384x640 2 persons, 2305.7ms\n",
      "Speed: 5.0ms preprocess, 2305.7ms inference, 1.0ms postprocess per image at shape (1, 3, 384, 640)\n"
     ]
    }
   ],
   "source": [
    "detector_extra = IntersectionDetector(\"../models/YOLOv8x.pt\")\n",
    "detector_extra.set_image_path(image_file)"
   ]
  },
  {
   "cell_type": "markdown",
   "metadata": {},
   "source": [
    "## Точность"
   ]
  },
  {
   "cell_type": "code",
   "execution_count": 48,
   "metadata": {},
   "outputs": [],
   "source": [
    "true_val = []\n",
    "with open(y_true) as file:\n",
    "    for line in file:\n",
    "        true_val.append([float(i) for i in line.split()])"
   ]
  },
  {
   "cell_type": "code",
   "execution_count": 50,
   "metadata": {},
   "outputs": [
    {
     "data": {
      "text/plain": [
       "[[772.9373168945312, 304.7340087890625, 916.8977661132812, 521.794189453125],\n",
       " [1464.29736328125, 300.126953125, 1558.8974609375, 436.6897888183594]]"
      ]
     },
     "execution_count": 50,
     "metadata": {},
     "output_type": "execute_result"
    }
   ],
   "source": [
    "detector_extra.humans_bb"
   ]
  },
  {
   "cell_type": "code",
   "execution_count": 49,
   "metadata": {},
   "outputs": [
    {
     "data": {
      "text/plain": [
       "[[0.0, 0.788802, 0.342593, 0.047396, 0.137037],\n",
       " [0.0, 0.438281, 0.384722, 0.08125, 0.2]]"
      ]
     },
     "execution_count": 49,
     "metadata": {},
     "output_type": "execute_result"
    }
   ],
   "source": [
    "true_val"
   ]
  },
  {
   "cell_type": "code",
   "execution_count": null,
   "metadata": {},
   "outputs": [],
   "source": []
  },
  {
   "cell_type": "code",
   "execution_count": null,
   "metadata": {},
   "outputs": [],
   "source": []
  },
  {
   "cell_type": "code",
   "execution_count": null,
   "metadata": {},
   "outputs": [],
   "source": []
  }
 ],
 "metadata": {
  "kernelspec": {
   "display_name": "Python 3",
   "language": "python",
   "name": "python3"
  },
  "language_info": {
   "codemirror_mode": {
    "name": "ipython",
    "version": 3
   },
   "file_extension": ".py",
   "mimetype": "text/x-python",
   "name": "python",
   "nbconvert_exporter": "python",
   "pygments_lexer": "ipython3",
   "version": "3.9.13"
  }
 },
 "nbformat": 4,
 "nbformat_minor": 2
}
